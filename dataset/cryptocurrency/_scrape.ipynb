{
 "cells": [
  {
   "cell_type": "code",
   "execution_count": 1,
   "metadata": {},
   "outputs": [],
   "source": [
    "import pandas as pd\n",
    "import os\n",
    "import glob"
   ]
  },
  {
   "cell_type": "code",
   "execution_count": 2,
   "metadata": {},
   "outputs": [],
   "source": [
    "# This is for Cryptocurrency re-format\n",
    "\n",
    "# Read all csv in folder section of code uses: https://www.geeksforgeeks.org/how-to-read-all-csv-files-in-a-folder-in-pandas/\n",
    "# use glob to get all the csv files \n",
    "# in the folder\n",
    "from sqlalchemy import false\n",
    "\n",
    "\n",
    "path = os.getcwd()\n",
    "csv_files = glob.glob(os.path.join(path, \"*.csv\"))\n",
    "\n",
    "# loop over the list of csv files\n",
    "for f in csv_files:\n",
    "    # read the csv file\n",
    "    df = pd.read_csv(f)\n",
    "    \n",
    "    # drop column\n",
    "    df.pop('Marketcap')\n",
    "    df.pop('SNo')\n",
    "    df.pop(\"Name\")\n",
    "    \n",
    "    for index, row in df.iterrows():\n",
    "        df.at[index, \"Date\"] = row[\"Date\"].split(\" \")[0]\n",
    "\n",
    "    df.to_csv(f, index = None)\n",
    "    \n",
    "    \n"
   ]
  },
  {
   "cell_type": "code",
   "execution_count": 3,
   "metadata": {},
   "outputs": [],
   "source": [
    "# merge all csv to one \n",
    "\n",
    "# joining files with concat and read_csv\n",
    "df = pd.concat(map(pd.read_csv, csv_files), ignore_index=True)\n",
    "df.to_csv(\"_crypto_merged.csv\", index = None)\n"
   ]
  },
  {
   "cell_type": "code",
   "execution_count": 4,
   "metadata": {},
   "outputs": [
    {
     "data": {
      "text/plain": [
       "'\\ndf_test = pd.read_csv(\"coin_Aave.csv\")\\n#print(df_test)\\nfor index, row in df_test.iterrows():\\n    #print(\"before\")\\n    #print(row[\"Date\"])\\n    #print(row[\"Date\"].split(\" \")[0])\\n    #row[\"Date\"] = row[\"Date\"].split(\" \")[0]\\n    df_test.at[index, \"Date\"] = row[\"Date\"].split(\" \")[0]\\n    #print(\"after:\")\\n    #print(row[\"Date\"])\\n#print(\"after:\")\\nprint(df_test)\\n'"
      ]
     },
     "execution_count": 4,
     "metadata": {},
     "output_type": "execute_result"
    }
   ],
   "source": [
    "# NOTE: below for test use block\n",
    "\n",
    "'''\n",
    "df_test = pd.read_csv(\"coin_Aave.csv\")\n",
    "#print(df_test)\n",
    "for index, row in df_test.iterrows():\n",
    "    #print(\"before\")\n",
    "    #print(row[\"Date\"])\n",
    "    #print(row[\"Date\"].split(\" \")[0])\n",
    "    #row[\"Date\"] = row[\"Date\"].split(\" \")[0]\n",
    "    df_test.at[index, \"Date\"] = row[\"Date\"].split(\" \")[0]\n",
    "    #print(\"after:\")\n",
    "    #print(row[\"Date\"])\n",
    "#print(\"after:\")\n",
    "print(df_test)\n",
    "'''\n",
    "\n",
    "    \n"
   ]
  }
 ],
 "metadata": {
  "kernelspec": {
   "display_name": "Python 3.8.5 ('base')",
   "language": "python",
   "name": "python3"
  },
  "language_info": {
   "codemirror_mode": {
    "name": "ipython",
    "version": 3
   },
   "file_extension": ".py",
   "mimetype": "text/x-python",
   "name": "python",
   "nbconvert_exporter": "python",
   "pygments_lexer": "ipython3",
   "version": "3.8.5"
  },
  "vscode": {
   "interpreter": {
    "hash": "ad2bdc8ecc057115af97d19610ffacc2b4e99fae6737bb82f5d7fb13d2f2c186"
   }
  }
 },
 "nbformat": 4,
 "nbformat_minor": 4
}
